{
 "cells": [
  {
   "cell_type": "code",
   "execution_count": 16,
   "id": "88960f9d",
   "metadata": {},
   "outputs": [],
   "source": [
    "import pandas as pd\n",
    "import numpy as np\n",
    "import yfinance\n",
    "from mpl_finance import candlestick_ohlc\n",
    "import matplotlib.dates as mpl_dates\n",
    "\n",
    "def getHistory(name, start, end, interval):\n",
    "    ticker = yfinance.Ticker(name)\n",
    "    df = ticker.history(interval= interval, start= start, end= end)\n",
    "    df['MA5'] = df.Low.rolling(window = 5).mean()\n",
    "    df['MA10'] = df.High.rolling(window= 10).mean()\n",
    "    df['MA50'] = df.High.rolling(window= 50).mean()\n",
    "    return df"
   ]
  },
  {
   "cell_type": "code",
   "execution_count": 17,
   "id": "3336110d",
   "metadata": {},
   "outputs": [
    {
     "data": {
      "text/html": [
       "<div>\n",
       "<style scoped>\n",
       "    .dataframe tbody tr th:only-of-type {\n",
       "        vertical-align: middle;\n",
       "    }\n",
       "\n",
       "    .dataframe tbody tr th {\n",
       "        vertical-align: top;\n",
       "    }\n",
       "\n",
       "    .dataframe thead th {\n",
       "        text-align: right;\n",
       "    }\n",
       "</style>\n",
       "<table border=\"1\" class=\"dataframe\">\n",
       "  <thead>\n",
       "    <tr style=\"text-align: right;\">\n",
       "      <th></th>\n",
       "      <th>Open</th>\n",
       "      <th>High</th>\n",
       "      <th>Low</th>\n",
       "      <th>Close</th>\n",
       "      <th>Volume</th>\n",
       "      <th>Dividends</th>\n",
       "      <th>Stock Splits</th>\n",
       "      <th>MA5</th>\n",
       "      <th>MA10</th>\n",
       "      <th>MA50</th>\n",
       "      <th>return-daily</th>\n",
       "      <th>return-MA5</th>\n",
       "      <th>return-Close</th>\n",
       "    </tr>\n",
       "    <tr>\n",
       "      <th>Date</th>\n",
       "      <th></th>\n",
       "      <th></th>\n",
       "      <th></th>\n",
       "      <th></th>\n",
       "      <th></th>\n",
       "      <th></th>\n",
       "      <th></th>\n",
       "      <th></th>\n",
       "      <th></th>\n",
       "      <th></th>\n",
       "      <th></th>\n",
       "      <th></th>\n",
       "      <th></th>\n",
       "    </tr>\n",
       "  </thead>\n",
       "  <tbody>\n",
       "    <tr>\n",
       "      <th>2020-11-16</th>\n",
       "      <td>72.375000</td>\n",
       "      <td>74.504997</td>\n",
       "      <td>71.870003</td>\n",
       "      <td>74.239998</td>\n",
       "      <td>53437200</td>\n",
       "      <td>0</td>\n",
       "      <td>0.0</td>\n",
       "      <td>NaN</td>\n",
       "      <td>NaN</td>\n",
       "      <td>NaN</td>\n",
       "      <td>NaN</td>\n",
       "      <td>NaN</td>\n",
       "      <td>NaN</td>\n",
       "    </tr>\n",
       "    <tr>\n",
       "      <th>2020-11-17</th>\n",
       "      <td>74.400002</td>\n",
       "      <td>74.680000</td>\n",
       "      <td>73.065002</td>\n",
       "      <td>73.555000</td>\n",
       "      <td>45676000</td>\n",
       "      <td>0</td>\n",
       "      <td>0.0</td>\n",
       "      <td>NaN</td>\n",
       "      <td>NaN</td>\n",
       "      <td>NaN</td>\n",
       "      <td>0.990773</td>\n",
       "      <td>NaN</td>\n",
       "      <td>0.990773</td>\n",
       "    </tr>\n",
       "    <tr>\n",
       "      <th>2020-11-18</th>\n",
       "      <td>73.129997</td>\n",
       "      <td>74.375000</td>\n",
       "      <td>71.849998</td>\n",
       "      <td>71.849998</td>\n",
       "      <td>38585400</td>\n",
       "      <td>0</td>\n",
       "      <td>0.0</td>\n",
       "      <td>NaN</td>\n",
       "      <td>NaN</td>\n",
       "      <td>NaN</td>\n",
       "      <td>0.976820</td>\n",
       "      <td>NaN</td>\n",
       "      <td>0.967807</td>\n",
       "    </tr>\n",
       "    <tr>\n",
       "      <th>2020-11-19</th>\n",
       "      <td>71.455002</td>\n",
       "      <td>73.845001</td>\n",
       "      <td>70.980003</td>\n",
       "      <td>73.629997</td>\n",
       "      <td>39835400</td>\n",
       "      <td>0</td>\n",
       "      <td>0.0</td>\n",
       "      <td>NaN</td>\n",
       "      <td>NaN</td>\n",
       "      <td>NaN</td>\n",
       "      <td>1.024774</td>\n",
       "      <td>NaN</td>\n",
       "      <td>0.991783</td>\n",
       "    </tr>\n",
       "    <tr>\n",
       "      <th>2020-11-20</th>\n",
       "      <td>73.525002</td>\n",
       "      <td>74.135002</td>\n",
       "      <td>72.059998</td>\n",
       "      <td>72.135002</td>\n",
       "      <td>32498400</td>\n",
       "      <td>0</td>\n",
       "      <td>0.0</td>\n",
       "      <td>71.965001</td>\n",
       "      <td>NaN</td>\n",
       "      <td>NaN</td>\n",
       "      <td>0.979696</td>\n",
       "      <td>0.979696</td>\n",
       "      <td>0.971646</td>\n",
       "    </tr>\n",
       "    <tr>\n",
       "      <th>...</th>\n",
       "      <td>...</td>\n",
       "      <td>...</td>\n",
       "      <td>...</td>\n",
       "      <td>...</td>\n",
       "      <td>...</td>\n",
       "      <td>...</td>\n",
       "      <td>...</td>\n",
       "      <td>...</td>\n",
       "      <td>...</td>\n",
       "      <td>...</td>\n",
       "      <td>...</td>\n",
       "      <td>...</td>\n",
       "      <td>...</td>\n",
       "    </tr>\n",
       "    <tr>\n",
       "      <th>2021-11-15</th>\n",
       "      <td>166.910004</td>\n",
       "      <td>167.309998</td>\n",
       "      <td>162.089996</td>\n",
       "      <td>165.399994</td>\n",
       "      <td>34864600</td>\n",
       "      <td>0</td>\n",
       "      <td>0.0</td>\n",
       "      <td>160.562000</td>\n",
       "      <td>167.516000</td>\n",
       "      <td>146.169800</td>\n",
       "      <td>0.999698</td>\n",
       "      <td>11.057572</td>\n",
       "      <td>2.227909</td>\n",
       "    </tr>\n",
       "    <tr>\n",
       "      <th>2021-11-16</th>\n",
       "      <td>164.289993</td>\n",
       "      <td>169.410004</td>\n",
       "      <td>164.059998</td>\n",
       "      <td>168.820007</td>\n",
       "      <td>25795400</td>\n",
       "      <td>0</td>\n",
       "      <td>0.0</td>\n",
       "      <td>160.459998</td>\n",
       "      <td>168.520001</td>\n",
       "      <td>146.500400</td>\n",
       "      <td>1.020677</td>\n",
       "      <td>11.286212</td>\n",
       "      <td>2.273976</td>\n",
       "    </tr>\n",
       "    <tr>\n",
       "      <th>2021-11-17</th>\n",
       "      <td>169.210007</td>\n",
       "      <td>171.690002</td>\n",
       "      <td>167.789993</td>\n",
       "      <td>169.020004</td>\n",
       "      <td>28984000</td>\n",
       "      <td>0</td>\n",
       "      <td>0.0</td>\n",
       "      <td>162.717996</td>\n",
       "      <td>169.257001</td>\n",
       "      <td>146.897200</td>\n",
       "      <td>1.001185</td>\n",
       "      <td>11.299583</td>\n",
       "      <td>2.276670</td>\n",
       "    </tr>\n",
       "    <tr>\n",
       "      <th>2021-11-18</th>\n",
       "      <td>171.679993</td>\n",
       "      <td>174.899994</td>\n",
       "      <td>168.770004</td>\n",
       "      <td>174.190002</td>\n",
       "      <td>43420800</td>\n",
       "      <td>0</td>\n",
       "      <td>0.0</td>\n",
       "      <td>164.491998</td>\n",
       "      <td>169.612000</td>\n",
       "      <td>147.353200</td>\n",
       "      <td>1.030588</td>\n",
       "      <td>11.645215</td>\n",
       "      <td>2.346309</td>\n",
       "    </tr>\n",
       "    <tr>\n",
       "      <th>2021-11-19</th>\n",
       "      <td>176.429993</td>\n",
       "      <td>178.870102</td>\n",
       "      <td>175.320007</td>\n",
       "      <td>177.139999</td>\n",
       "      <td>32303578</td>\n",
       "      <td>0</td>\n",
       "      <td>0.0</td>\n",
       "      <td>167.606000</td>\n",
       "      <td>170.133009</td>\n",
       "      <td>147.893602</td>\n",
       "      <td>1.016936</td>\n",
       "      <td>11.842433</td>\n",
       "      <td>2.386045</td>\n",
       "    </tr>\n",
       "  </tbody>\n",
       "</table>\n",
       "<p>256 rows × 13 columns</p>\n",
       "</div>"
      ],
      "text/plain": [
       "                  Open        High         Low       Close    Volume  \\\n",
       "Date                                                                   \n",
       "2020-11-16   72.375000   74.504997   71.870003   74.239998  53437200   \n",
       "2020-11-17   74.400002   74.680000   73.065002   73.555000  45676000   \n",
       "2020-11-18   73.129997   74.375000   71.849998   71.849998  38585400   \n",
       "2020-11-19   71.455002   73.845001   70.980003   73.629997  39835400   \n",
       "2020-11-20   73.525002   74.135002   72.059998   72.135002  32498400   \n",
       "...                ...         ...         ...         ...       ...   \n",
       "2021-11-15  166.910004  167.309998  162.089996  165.399994  34864600   \n",
       "2021-11-16  164.289993  169.410004  164.059998  168.820007  25795400   \n",
       "2021-11-17  169.210007  171.690002  167.789993  169.020004  28984000   \n",
       "2021-11-18  171.679993  174.899994  168.770004  174.190002  43420800   \n",
       "2021-11-19  176.429993  178.870102  175.320007  177.139999  32303578   \n",
       "\n",
       "            Dividends  Stock Splits         MA5        MA10        MA50  \\\n",
       "Date                                                                      \n",
       "2020-11-16          0           0.0         NaN         NaN         NaN   \n",
       "2020-11-17          0           0.0         NaN         NaN         NaN   \n",
       "2020-11-18          0           0.0         NaN         NaN         NaN   \n",
       "2020-11-19          0           0.0         NaN         NaN         NaN   \n",
       "2020-11-20          0           0.0   71.965001         NaN         NaN   \n",
       "...               ...           ...         ...         ...         ...   \n",
       "2021-11-15          0           0.0  160.562000  167.516000  146.169800   \n",
       "2021-11-16          0           0.0  160.459998  168.520001  146.500400   \n",
       "2021-11-17          0           0.0  162.717996  169.257001  146.897200   \n",
       "2021-11-18          0           0.0  164.491998  169.612000  147.353200   \n",
       "2021-11-19          0           0.0  167.606000  170.133009  147.893602   \n",
       "\n",
       "            return-daily  return-MA5  return-Close  \n",
       "Date                                                \n",
       "2020-11-16           NaN         NaN           NaN  \n",
       "2020-11-17      0.990773         NaN      0.990773  \n",
       "2020-11-18      0.976820         NaN      0.967807  \n",
       "2020-11-19      1.024774         NaN      0.991783  \n",
       "2020-11-20      0.979696    0.979696      0.971646  \n",
       "...                  ...         ...           ...  \n",
       "2021-11-15      0.999698   11.057572      2.227909  \n",
       "2021-11-16      1.020677   11.286212      2.273976  \n",
       "2021-11-17      1.001185   11.299583      2.276670  \n",
       "2021-11-18      1.030588   11.645215      2.346309  \n",
       "2021-11-19      1.016936   11.842433      2.386045  \n",
       "\n",
       "[256 rows x 13 columns]"
      ]
     },
     "execution_count": 17,
     "metadata": {},
     "output_type": "execute_result"
    }
   ],
   "source": [
    "name = 'TQQQ'\n",
    "# name = 'BTC-USD'\n",
    "\n",
    "start = \"2021-06-16\"\n",
    "start = \"2020-11-14\"\n",
    "\n",
    "end = None\n",
    "interval = '1d'\n",
    "df = getHistory(name, start, end, interval)\n",
    "\n",
    "# df = df[-10:]\n",
    "df['return-daily'] = df['Close'].pct_change() + 1\n",
    "df['return-MA5'] = (df[ df['MA5'] < df['Close'] ]['return-daily']).cumprod(skipna = True)\n",
    "df['return-Close'] = (df['Close'].pct_change() + 1).cumprod(skipna = True)\n",
    "df"
   ]
  },
  {
   "cell_type": "code",
   "execution_count": 18,
   "id": "88346969",
   "metadata": {},
   "outputs": [
    {
     "data": {
      "text/plain": [
       "1.0407355866820425"
      ]
     },
     "execution_count": 18,
     "metadata": {},
     "output_type": "execute_result"
    }
   ],
   "source": [
    "1.003707 * 0.999588 * 0.978991 * 1.010066 * 1.009760 * 1.038881"
   ]
  },
  {
   "cell_type": "code",
   "execution_count": 19,
   "id": "5e0bddf4",
   "metadata": {},
   "outputs": [
    {
     "data": {
      "text/plain": [
       "1.0032000128847323"
      ]
     },
     "execution_count": 19,
     "metadata": {},
     "output_type": "execute_result"
    }
   ],
   "source": [
    "1.003707 * 0.999588 * 0.978991 * 1.010066 * 1.009760 * 1.038881 * 0.956179 * 1.008110"
   ]
  },
  {
   "cell_type": "code",
   "execution_count": 20,
   "id": "c48dad3b",
   "metadata": {},
   "outputs": [
    {
     "data": {
      "text/plain": [
       "<AxesSubplot:xlabel='Date'>"
      ]
     },
     "execution_count": 20,
     "metadata": {},
     "output_type": "execute_result"
    },
    {
     "data": {
      "image/png": "[encoded data removed]",
      "text/plain": [
       "<Figure size 432x288 with 1 Axes>"
      ]
     },
     "metadata": {
      "needs_background": "light"
     },
     "output_type": "display_data"
    }
   ],
   "source": [
    "df[['Close', 'MA5']].plot()"
   ]
  },
  {
   "cell_type": "code",
   "execution_count": 23,
   "id": "76fda583",
   "metadata": {},
   "outputs": [],
   "source": [
    "\n",
    "df['MA5-test'] = (df[ df['MA5'] < df['Close'] ]['Close'].pct_change() + 1).cumprod()"
   ]
  },
  {
   "cell_type": "code",
   "execution_count": 24,
   "id": "8be92edc",
   "metadata": {},
   "outputs": [
    {
     "data": {
      "text/plain": [
       "0.9941152236620882"
      ]
     },
     "execution_count": 24,
     "metadata": {},
     "output_type": "execute_result"
    }
   ],
   "source": [
    "df['MA5-test'][-1] / df['MA5-test'][-10]"
   ]
  },
  {
   "cell_type": "code",
   "execution_count": 20,
   "id": "ad913f9c",
   "metadata": {},
   "outputs": [
    {
     "data": {
      "text/plain": [
       "0.9945860165444682"
      ]
     },
     "execution_count": 20,
     "metadata": {},
     "output_type": "execute_result"
    }
   ],
   "source": [
    "df['Close'][-1] / df['Close'][-10]"
   ]
  },
  {
   "cell_type": "code",
   "execution_count": 4,
   "id": "d7d0ef74",
   "metadata": {},
   "outputs": [],
   "source": [
    "# df[['Close', 'MA5', 'MA10']].plot()\n",
    "# df[['Close', 'MA5', 'MA5-Close']].plot(figsize=(40,20))"
   ]
  },
  {
   "cell_type": "code",
   "execution_count": null,
   "id": "ae81bfad",
   "metadata": {},
   "outputs": [],
   "source": []
  },
  {
   "cell_type": "code",
   "execution_count": 57,
   "id": "66b21475",
   "metadata": {},
   "outputs": [
    {
     "data": {
      "text/plain": [
       "0    2.0\n",
       "1    NaN\n",
       "2    4.0\n",
       "3   -3.0\n",
       "4    1.0\n",
       "dtype: float64"
      ]
     },
     "execution_count": 57,
     "metadata": {},
     "output_type": "execute_result"
    }
   ],
   "source": [
    "s = pd.Series([2, np.nan, 4, -3, 1])\n",
    "s"
   ]
  },
  {
   "cell_type": "code",
   "execution_count": 58,
   "id": "93b9a0dc",
   "metadata": {},
   "outputs": [
    {
     "data": {
      "text/plain": [
       "0     2.0\n",
       "1     NaN\n",
       "2     8.0\n",
       "3   -24.0\n",
       "4   -24.0\n",
       "dtype: float64"
      ]
     },
     "execution_count": 58,
     "metadata": {},
     "output_type": "execute_result"
    }
   ],
   "source": [
    "s.cumprod(skipna = True)\n"
   ]
  },
  {
   "cell_type": "code",
   "execution_count": null,
   "id": "b0650a6f",
   "metadata": {},
   "outputs": [],
   "source": []
  },
  {
   "cell_type": "code",
   "execution_count": null,
   "id": "3f5a8380",
   "metadata": {},
   "outputs": [],
   "source": []
  },
  {
   "cell_type": "code",
   "execution_count": null,
   "id": "5ce74d76",
   "metadata": {},
   "outputs": [],
   "source": []
  },
  {
   "cell_type": "code",
   "execution_count": null,
   "id": "dd699aed",
   "metadata": {},
   "outputs": [],
   "source": []
  }
 ],
 "metadata": {
  "kernelspec": {
   "display_name": "Python 3 (ipykernel)",
   "language": "python",
   "name": "python3"
  },
  "language_info": {
   "codemirror_mode": {
    "name": "ipython",
    "version": 3
   },
   "file_extension": ".py",
   "mimetype": "text/x-python",
   "name": "python",
   "nbconvert_exporter": "python",
   "pygments_lexer": "ipython3",
   "version": "3.8.12"
  }
 },
 "nbformat": 4,
 "nbformat_minor": 5
}
