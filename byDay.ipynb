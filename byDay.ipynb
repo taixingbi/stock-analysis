{
 "cells": [
  {
   "cell_type": "code",
   "execution_count": 75,
   "id": "1c4c35ef",
   "metadata": {},
   "outputs": [],
   "source": [
    "import pandas as pd\n",
    "import numpy as np\n",
    "import yfinance\n",
    "from mpl_finance import candlestick_ohlc\n",
    "import matplotlib.dates as mpl_dates\n",
    "\n",
    "def isSupport(df, i):\n",
    "  support = df['Low'][i] < df['Low'][i-1]  and df['Low'][i] < df['Low'][i+1] and df['Low'][i+1] < df['Low'][i+2] and df['Low'][i-1] < df['Low'][i-2]\n",
    "  return support\n",
    "\n",
    "def isResistance(df, i):\n",
    "  resistance = df['High'][i] > df['High'][i-1]  and df['High'][i] > df['High'][i+1] and df['High'][i+1] > df['High'][i+2] and df['High'][i-1] > df['High'][i-2]\n",
    "  return resistance"
   ]
  },
  {
   "cell_type": "code",
   "execution_count": 76,
   "id": "de7ef008",
   "metadata": {},
   "outputs": [
    {
     "data": {
      "text/html": [
       "<div>\n",
       "<style scoped>\n",
       "    .dataframe tbody tr th:only-of-type {\n",
       "        vertical-align: middle;\n",
       "    }\n",
       "\n",
       "    .dataframe tbody tr th {\n",
       "        vertical-align: top;\n",
       "    }\n",
       "\n",
       "    .dataframe thead th {\n",
       "        text-align: right;\n",
       "    }\n",
       "</style>\n",
       "<table border=\"1\" class=\"dataframe\">\n",
       "  <thead>\n",
       "    <tr style=\"text-align: right;\">\n",
       "      <th></th>\n",
       "      <th>Date</th>\n",
       "      <th>Open</th>\n",
       "      <th>High</th>\n",
       "      <th>Low</th>\n",
       "      <th>Close</th>\n",
       "    </tr>\n",
       "    <tr>\n",
       "      <th>Datetime</th>\n",
       "      <th></th>\n",
       "      <th></th>\n",
       "      <th></th>\n",
       "      <th></th>\n",
       "      <th></th>\n",
       "    </tr>\n",
       "  </thead>\n",
       "  <tbody>\n",
       "    <tr>\n",
       "      <th>2021-09-27 09:30:00-04:00</th>\n",
       "      <td>18897.562500</td>\n",
       "      <td>138.210007</td>\n",
       "      <td>138.960007</td>\n",
       "      <td>137.972000</td>\n",
       "      <td>138.850006</td>\n",
       "    </tr>\n",
       "    <tr>\n",
       "      <th>2021-09-27 09:32:00-04:00</th>\n",
       "      <td>18897.563889</td>\n",
       "      <td>138.850006</td>\n",
       "      <td>138.990005</td>\n",
       "      <td>137.520004</td>\n",
       "      <td>137.570007</td>\n",
       "    </tr>\n",
       "    <tr>\n",
       "      <th>2021-09-27 09:34:00-04:00</th>\n",
       "      <td>18897.565278</td>\n",
       "      <td>137.250000</td>\n",
       "      <td>137.309998</td>\n",
       "      <td>136.895004</td>\n",
       "      <td>136.979202</td>\n",
       "    </tr>\n",
       "    <tr>\n",
       "      <th>2021-09-27 09:36:00-04:00</th>\n",
       "      <td>18897.566667</td>\n",
       "      <td>137.250000</td>\n",
       "      <td>137.419998</td>\n",
       "      <td>136.320007</td>\n",
       "      <td>136.320007</td>\n",
       "    </tr>\n",
       "    <tr>\n",
       "      <th>2021-09-27 09:38:00-04:00</th>\n",
       "      <td>18897.568056</td>\n",
       "      <td>136.250000</td>\n",
       "      <td>136.520004</td>\n",
       "      <td>135.975006</td>\n",
       "      <td>136.330002</td>\n",
       "    </tr>\n",
       "  </tbody>\n",
       "</table>\n",
       "</div>"
      ],
      "text/plain": [
       "                                   Date        Open        High         Low  \\\n",
       "Datetime                                                                      \n",
       "2021-09-27 09:30:00-04:00  18897.562500  138.210007  138.960007  137.972000   \n",
       "2021-09-27 09:32:00-04:00  18897.563889  138.850006  138.990005  137.520004   \n",
       "2021-09-27 09:34:00-04:00  18897.565278  137.250000  137.309998  136.895004   \n",
       "2021-09-27 09:36:00-04:00  18897.566667  137.250000  137.419998  136.320007   \n",
       "2021-09-27 09:38:00-04:00  18897.568056  136.250000  136.520004  135.975006   \n",
       "\n",
       "                                Close  \n",
       "Datetime                               \n",
       "2021-09-27 09:30:00-04:00  138.850006  \n",
       "2021-09-27 09:32:00-04:00  137.570007  \n",
       "2021-09-27 09:34:00-04:00  136.979202  \n",
       "2021-09-27 09:36:00-04:00  136.320007  \n",
       "2021-09-27 09:38:00-04:00  136.330002  "
      ]
     },
     "execution_count": 76,
     "metadata": {},
     "output_type": "execute_result"
    }
   ],
   "source": [
    "name = 'TQQQ'\n",
    "ticker = yfinance.Ticker(name)\n",
    "df = ticker.history(interval=\"2m\", start=\"2021-09-25\", end=\"2021-09-29\")\n",
    "\n",
    "df['Date'] = pd.to_datetime(df.index)\n",
    "df['Date'] = df['Date'].apply(mpl_dates.date2num)\n",
    "df = df.loc[:,['Date', 'Open', 'High', 'Low', 'Close']]\n",
    "df.head()"
   ]
  },
  {
   "cell_type": "code",
   "execution_count": 77,
   "id": "289d0eb6",
   "metadata": {},
   "outputs": [],
   "source": [
    "def toDate(i):\n",
    "    return str(df.index[i]).split(\" \")[0]"
   ]
  },
  {
   "cell_type": "code",
   "execution_count": 78,
   "id": "ce78a0eb",
   "metadata": {},
   "outputs": [],
   "source": [
    "levels = []\n",
    "for i in range(2, df.shape[0]-2):\n",
    "  if isSupport(df,i):\n",
    "    levels.append((i,df['Low'][i], toDate(i)))\n",
    "  elif isResistance(df,i):\n",
    "    levels.append((i,df['High'][i], toDate(i)))"
   ]
  },
  {
   "cell_type": "code",
   "execution_count": 79,
   "id": "65e850f0",
   "metadata": {},
   "outputs": [
    {
     "name": "stderr",
     "output_type": "stream",
     "text": [
      "/var/folders/nd/5pqh5k_9627gj29t_mn4n73m0000gn/T/ipykernel_13187/1662963769.py:16: UserWarning: Matplotlib is currently using module://matplotlib_inline.backend_inline, which is a non-GUI backend, so cannot show the figure.\n",
      "  fig.show()\n"
     ]
    },
    {
     "data": {
      "image/png": "[encoded data removed]",
      "text/plain": [
       "<Figure size 864x504 with 1 Axes>"
      ]
     },
     "metadata": {
      "needs_background": "light"
     },
     "output_type": "display_data"
    }
   ],
   "source": [
    "import matplotlib.pyplot as plt\n",
    "plt.rcParams['figure.figsize'] = [12, 7]\n",
    "plt.rc('font', size=14)\n",
    "\n",
    "def plot_all():\n",
    "  fig, ax = plt.subplots()\n",
    "  candlestick_ohlc(ax,df.values,width=0.6, \\\n",
    "                   colorup='green', colordown='red', alpha=0.8)\n",
    "  date_format = mpl_dates.DateFormatter('%d %b %Y')\n",
    "  ax.xaxis.set_major_formatter(date_format)\n",
    "  fig.autofmt_xdate()\n",
    "  fig.tight_layout()\n",
    "  for level in levels:\n",
    "    plt.hlines(level[1],xmin=df['Date'][level[0]],\\\n",
    "               xmax=max(df['Date']),colors='blue')\n",
    "  fig.show()\n",
    "\n",
    "plot_all()"
   ]
  },
  {
   "cell_type": "code",
   "execution_count": null,
   "id": "182d9dd0",
   "metadata": {},
   "outputs": [],
   "source": []
  },
  {
   "cell_type": "code",
   "execution_count": 69,
   "id": "f7db3266",
   "metadata": {},
   "outputs": [
    {
     "data": {
      "text/plain": [
       "[]"
      ]
     },
     "execution_count": 69,
     "metadata": {},
     "output_type": "execute_result"
    }
   ],
   "source": [
    "levels"
   ]
  },
  {
   "cell_type": "code",
   "execution_count": null,
   "id": "2f5dec1a",
   "metadata": {},
   "outputs": [],
   "source": []
  },
  {
   "cell_type": "code",
   "execution_count": null,
   "id": "a52b5b5d",
   "metadata": {},
   "outputs": [],
   "source": []
  },
  {
   "cell_type": "code",
   "execution_count": null,
   "id": "54fdfb32",
   "metadata": {},
   "outputs": [],
   "source": []
  },
  {
   "cell_type": "code",
   "execution_count": null,
   "id": "0de57978",
   "metadata": {},
   "outputs": [],
   "source": [
    "print(\"done\")"
   ]
  },
  {
   "cell_type": "code",
   "execution_count": null,
   "id": "fb4780be",
   "metadata": {},
   "outputs": [],
   "source": []
  }
 ],
 "metadata": {
  "kernelspec": {
   "display_name": "Python 3 (ipykernel)",
   "language": "python",
   "name": "python3"
  },
  "language_info": {
   "codemirror_mode": {
    "name": "ipython",
    "version": 3
   },
   "file_extension": ".py",
   "mimetype": "text/x-python",
   "name": "python",
   "nbconvert_exporter": "python",
   "pygments_lexer": "ipython3",
   "version": "3.8.12"
  }
 },
 "nbformat": 4,
 "nbformat_minor": 5
}
